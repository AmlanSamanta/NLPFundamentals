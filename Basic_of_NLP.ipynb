{
  "nbformat": 4,
  "nbformat_minor": 0,
  "metadata": {
    "colab": {
      "provenance": [],
      "authorship_tag": "ABX9TyOr5GxLJ7xMhfTLvZRXCCiG",
      "include_colab_link": true
    },
    "kernelspec": {
      "name": "python3",
      "display_name": "Python 3"
    },
    "language_info": {
      "name": "python"
    }
  },
  "cells": [
    {
      "cell_type": "markdown",
      "metadata": {
        "id": "view-in-github",
        "colab_type": "text"
      },
      "source": [
        "<a href=\"https://colab.research.google.com/github/AmlanSamanta/NLPFundamentals/blob/main/Basic_of_NLP.ipynb\" target=\"_parent\"><img src=\"https://colab.research.google.com/assets/colab-badge.svg\" alt=\"Open In Colab\"/></a>"
      ]
    },
    {
      "cell_type": "markdown",
      "source": [
        "## Natural Language Processing\n",
        "\n",
        "It is the field of Computer Science which focuses on making systems that can analyse and understand human natural languages. As most of the text data are unstructured, first the data needs to be preprocessed so that it can be possible for computers to analyse and then finally needs to be postprocessed to make them human understandable."
      ],
      "metadata": {
        "id": "lSUeYEESM5bQ"
      }
    },
    {
      "cell_type": "markdown",
      "source": [
        "## NLTK - Natural Language Toolkit\n",
        "\n",
        "It is a Python library which provides supports for text preprocessing, analysis and visualizations. Lets install it along with other libraries using pip."
      ],
      "metadata": {
        "id": "hlxgQgBwOf2d"
      }
    },
    {
      "cell_type": "code",
      "source": [
        "!pip install nltk matplotlib numpy"
      ],
      "metadata": {
        "colab": {
          "base_uri": "https://localhost:8080/"
        },
        "id": "ILXj3gsxO_vs",
        "outputId": "c54cd299-b03f-4368-d925-03b258da84bf"
      },
      "execution_count": 1,
      "outputs": [
        {
          "output_type": "stream",
          "name": "stdout",
          "text": [
            "Looking in indexes: https://pypi.org/simple, https://us-python.pkg.dev/colab-wheels/public/simple/\n",
            "Requirement already satisfied: nltk in /usr/local/lib/python3.9/dist-packages (3.8.1)\n",
            "Requirement already satisfied: matplotlib in /usr/local/lib/python3.9/dist-packages (3.7.1)\n",
            "Requirement already satisfied: numpy in /usr/local/lib/python3.9/dist-packages (1.22.4)\n",
            "Requirement already satisfied: tqdm in /usr/local/lib/python3.9/dist-packages (from nltk) (4.65.0)\n",
            "Requirement already satisfied: click in /usr/local/lib/python3.9/dist-packages (from nltk) (8.1.3)\n",
            "Requirement already satisfied: regex>=2021.8.3 in /usr/local/lib/python3.9/dist-packages (from nltk) (2022.10.31)\n",
            "Requirement already satisfied: joblib in /usr/local/lib/python3.9/dist-packages (from nltk) (1.1.1)\n",
            "Requirement already satisfied: kiwisolver>=1.0.1 in /usr/local/lib/python3.9/dist-packages (from matplotlib) (1.4.4)\n",
            "Requirement already satisfied: fonttools>=4.22.0 in /usr/local/lib/python3.9/dist-packages (from matplotlib) (4.39.3)\n",
            "Requirement already satisfied: packaging>=20.0 in /usr/local/lib/python3.9/dist-packages (from matplotlib) (23.0)\n",
            "Requirement already satisfied: pillow>=6.2.0 in /usr/local/lib/python3.9/dist-packages (from matplotlib) (8.4.0)\n",
            "Requirement already satisfied: pyparsing>=2.3.1 in /usr/local/lib/python3.9/dist-packages (from matplotlib) (3.0.9)\n",
            "Requirement already satisfied: contourpy>=1.0.1 in /usr/local/lib/python3.9/dist-packages (from matplotlib) (1.0.7)\n",
            "Requirement already satisfied: python-dateutil>=2.7 in /usr/local/lib/python3.9/dist-packages (from matplotlib) (2.8.2)\n",
            "Requirement already satisfied: importlib-resources>=3.2.0 in /usr/local/lib/python3.9/dist-packages (from matplotlib) (5.12.0)\n",
            "Requirement already satisfied: cycler>=0.10 in /usr/local/lib/python3.9/dist-packages (from matplotlib) (0.11.0)\n",
            "Requirement already satisfied: zipp>=3.1.0 in /usr/local/lib/python3.9/dist-packages (from importlib-resources>=3.2.0->matplotlib) (3.15.0)\n",
            "Requirement already satisfied: six>=1.5 in /usr/local/lib/python3.9/dist-packages (from python-dateutil>=2.7->matplotlib) (1.16.0)\n"
          ]
        }
      ]
    },
    {
      "cell_type": "markdown",
      "source": [
        "### Tokenisation\n",
        "\n",
        "It refers to the splitting of text by words and sentences and is the first step to transform unstructured text into structured data by allowing to work on smaller pieces of text which becomes easier to analyze. Let's see some examples:"
      ],
      "metadata": {
        "id": "qGJW0ThAPcH0"
      }
    },
    {
      "cell_type": "code",
      "source": [
        "from nltk.tokenize import word_tokenize, sent_tokenize"
      ],
      "metadata": {
        "id": "eP0Gut0aQvYi"
      },
      "execution_count": 2,
      "outputs": []
    },
    {
      "cell_type": "code",
      "source": [
        "example_text = \"\"\"\n",
        "Vivo's latest Vivo T2 series will launch in India today, April 11. \n",
        "The new smartphone will be unveiled during a virtual event at 12 PM and fans can watch the live stream for free on Vivo India's official YouTube channel. \n",
        "Ahead of the launch, the company has revealed the Vivo T2 series colour and design. \n",
        "The lineup includes the Vivo T2 and a toned-down Vivo T2x. \n",
        "Both smartphones support 5G.\n",
        "The Vivo T2's official Flipkart listing reveals that the phone will come with a Full-HD+ AMOLED display with a 360Hz touch sampling rate \n",
        "and 1300 nits peak brightness. On the back, there's a 64-megapixel primary camera with OIS and EIS support to offer \n",
        "crisp and stable videos and photos. There's also going to be a 2-megapixel bokeh camera, but no ultra-wide camera lens.\n",
        "\"\"\""
      ],
      "metadata": {
        "id": "WYdyJlpnRKQd"
      },
      "execution_count": 3,
      "outputs": []
    },
    {
      "cell_type": "code",
      "source": [
        "sent_tokenize(example_text)"
      ],
      "metadata": {
        "colab": {
          "base_uri": "https://localhost:8080/",
          "height": 711
        },
        "id": "-WBePdnvR_UA",
        "outputId": "89f159cf-fc63-4918-dbe7-5199853debc9"
      },
      "execution_count": 4,
      "outputs": [
        {
          "output_type": "error",
          "ename": "LookupError",
          "evalue": "ignored",
          "traceback": [
            "\u001b[0;31m---------------------------------------------------------------------------\u001b[0m",
            "\u001b[0;31mLookupError\u001b[0m                               Traceback (most recent call last)",
            "\u001b[0;32m<ipython-input-4-62bc38a2e023>\u001b[0m in \u001b[0;36m<cell line: 1>\u001b[0;34m()\u001b[0m\n\u001b[0;32m----> 1\u001b[0;31m \u001b[0msent_tokenize\u001b[0m\u001b[0;34m(\u001b[0m\u001b[0mexample_text\u001b[0m\u001b[0;34m)\u001b[0m\u001b[0;34m\u001b[0m\u001b[0;34m\u001b[0m\u001b[0m\n\u001b[0m",
            "\u001b[0;32m/usr/local/lib/python3.9/dist-packages/nltk/tokenize/__init__.py\u001b[0m in \u001b[0;36msent_tokenize\u001b[0;34m(text, language)\u001b[0m\n\u001b[1;32m    104\u001b[0m     \u001b[0;34m:\u001b[0m\u001b[0mparam\u001b[0m \u001b[0mlanguage\u001b[0m\u001b[0;34m:\u001b[0m \u001b[0mthe\u001b[0m \u001b[0mmodel\u001b[0m \u001b[0mname\u001b[0m \u001b[0;32min\u001b[0m \u001b[0mthe\u001b[0m \u001b[0mPunkt\u001b[0m \u001b[0mcorpus\u001b[0m\u001b[0;34m\u001b[0m\u001b[0;34m\u001b[0m\u001b[0m\n\u001b[1;32m    105\u001b[0m     \"\"\"\n\u001b[0;32m--> 106\u001b[0;31m     \u001b[0mtokenizer\u001b[0m \u001b[0;34m=\u001b[0m \u001b[0mload\u001b[0m\u001b[0;34m(\u001b[0m\u001b[0;34mf\"tokenizers/punkt/{language}.pickle\"\u001b[0m\u001b[0;34m)\u001b[0m\u001b[0;34m\u001b[0m\u001b[0;34m\u001b[0m\u001b[0m\n\u001b[0m\u001b[1;32m    107\u001b[0m     \u001b[0;32mreturn\u001b[0m \u001b[0mtokenizer\u001b[0m\u001b[0;34m.\u001b[0m\u001b[0mtokenize\u001b[0m\u001b[0;34m(\u001b[0m\u001b[0mtext\u001b[0m\u001b[0;34m)\u001b[0m\u001b[0;34m\u001b[0m\u001b[0;34m\u001b[0m\u001b[0m\n\u001b[1;32m    108\u001b[0m \u001b[0;34m\u001b[0m\u001b[0m\n",
            "\u001b[0;32m/usr/local/lib/python3.9/dist-packages/nltk/data.py\u001b[0m in \u001b[0;36mload\u001b[0;34m(resource_url, format, cache, verbose, logic_parser, fstruct_reader, encoding)\u001b[0m\n\u001b[1;32m    748\u001b[0m \u001b[0;34m\u001b[0m\u001b[0m\n\u001b[1;32m    749\u001b[0m     \u001b[0;31m# Load the resource.\u001b[0m\u001b[0;34m\u001b[0m\u001b[0;34m\u001b[0m\u001b[0m\n\u001b[0;32m--> 750\u001b[0;31m     \u001b[0mopened_resource\u001b[0m \u001b[0;34m=\u001b[0m \u001b[0m_open\u001b[0m\u001b[0;34m(\u001b[0m\u001b[0mresource_url\u001b[0m\u001b[0;34m)\u001b[0m\u001b[0;34m\u001b[0m\u001b[0;34m\u001b[0m\u001b[0m\n\u001b[0m\u001b[1;32m    751\u001b[0m \u001b[0;34m\u001b[0m\u001b[0m\n\u001b[1;32m    752\u001b[0m     \u001b[0;32mif\u001b[0m \u001b[0mformat\u001b[0m \u001b[0;34m==\u001b[0m \u001b[0;34m\"raw\"\u001b[0m\u001b[0;34m:\u001b[0m\u001b[0;34m\u001b[0m\u001b[0;34m\u001b[0m\u001b[0m\n",
            "\u001b[0;32m/usr/local/lib/python3.9/dist-packages/nltk/data.py\u001b[0m in \u001b[0;36m_open\u001b[0;34m(resource_url)\u001b[0m\n\u001b[1;32m    874\u001b[0m \u001b[0;34m\u001b[0m\u001b[0m\n\u001b[1;32m    875\u001b[0m     \u001b[0;32mif\u001b[0m \u001b[0mprotocol\u001b[0m \u001b[0;32mis\u001b[0m \u001b[0;32mNone\u001b[0m \u001b[0;32mor\u001b[0m \u001b[0mprotocol\u001b[0m\u001b[0;34m.\u001b[0m\u001b[0mlower\u001b[0m\u001b[0;34m(\u001b[0m\u001b[0;34m)\u001b[0m \u001b[0;34m==\u001b[0m \u001b[0;34m\"nltk\"\u001b[0m\u001b[0;34m:\u001b[0m\u001b[0;34m\u001b[0m\u001b[0;34m\u001b[0m\u001b[0m\n\u001b[0;32m--> 876\u001b[0;31m         \u001b[0;32mreturn\u001b[0m \u001b[0mfind\u001b[0m\u001b[0;34m(\u001b[0m\u001b[0mpath_\u001b[0m\u001b[0;34m,\u001b[0m \u001b[0mpath\u001b[0m \u001b[0;34m+\u001b[0m \u001b[0;34m[\u001b[0m\u001b[0;34m\"\"\u001b[0m\u001b[0;34m]\u001b[0m\u001b[0;34m)\u001b[0m\u001b[0;34m.\u001b[0m\u001b[0mopen\u001b[0m\u001b[0;34m(\u001b[0m\u001b[0;34m)\u001b[0m\u001b[0;34m\u001b[0m\u001b[0;34m\u001b[0m\u001b[0m\n\u001b[0m\u001b[1;32m    877\u001b[0m     \u001b[0;32melif\u001b[0m \u001b[0mprotocol\u001b[0m\u001b[0;34m.\u001b[0m\u001b[0mlower\u001b[0m\u001b[0;34m(\u001b[0m\u001b[0;34m)\u001b[0m \u001b[0;34m==\u001b[0m \u001b[0;34m\"file\"\u001b[0m\u001b[0;34m:\u001b[0m\u001b[0;34m\u001b[0m\u001b[0;34m\u001b[0m\u001b[0m\n\u001b[1;32m    878\u001b[0m         \u001b[0;31m# urllib might not use mode='rb', so handle this one ourselves:\u001b[0m\u001b[0;34m\u001b[0m\u001b[0;34m\u001b[0m\u001b[0m\n",
            "\u001b[0;32m/usr/local/lib/python3.9/dist-packages/nltk/data.py\u001b[0m in \u001b[0;36mfind\u001b[0;34m(resource_name, paths)\u001b[0m\n\u001b[1;32m    581\u001b[0m     \u001b[0msep\u001b[0m \u001b[0;34m=\u001b[0m \u001b[0;34m\"*\"\u001b[0m \u001b[0;34m*\u001b[0m \u001b[0;36m70\u001b[0m\u001b[0;34m\u001b[0m\u001b[0;34m\u001b[0m\u001b[0m\n\u001b[1;32m    582\u001b[0m     \u001b[0mresource_not_found\u001b[0m \u001b[0;34m=\u001b[0m \u001b[0;34mf\"\\n{sep}\\n{msg}\\n{sep}\\n\"\u001b[0m\u001b[0;34m\u001b[0m\u001b[0;34m\u001b[0m\u001b[0m\n\u001b[0;32m--> 583\u001b[0;31m     \u001b[0;32mraise\u001b[0m \u001b[0mLookupError\u001b[0m\u001b[0;34m(\u001b[0m\u001b[0mresource_not_found\u001b[0m\u001b[0;34m)\u001b[0m\u001b[0;34m\u001b[0m\u001b[0;34m\u001b[0m\u001b[0m\n\u001b[0m\u001b[1;32m    584\u001b[0m \u001b[0;34m\u001b[0m\u001b[0m\n\u001b[1;32m    585\u001b[0m \u001b[0;34m\u001b[0m\u001b[0m\n",
            "\u001b[0;31mLookupError\u001b[0m: \n**********************************************************************\n  Resource \u001b[93mpunkt\u001b[0m not found.\n  Please use the NLTK Downloader to obtain the resource:\n\n  \u001b[31m>>> import nltk\n  >>> nltk.download('punkt')\n  \u001b[0m\n  For more information see: https://www.nltk.org/data.html\n\n  Attempted to load \u001b[93mtokenizers/punkt/PY3/english.pickle\u001b[0m\n\n  Searched in:\n    - '/root/nltk_data'\n    - '/usr/nltk_data'\n    - '/usr/share/nltk_data'\n    - '/usr/lib/nltk_data'\n    - '/usr/share/nltk_data'\n    - '/usr/local/share/nltk_data'\n    - '/usr/lib/nltk_data'\n    - '/usr/local/lib/nltk_data'\n    - ''\n**********************************************************************\n"
          ]
        }
      ]
    },
    {
      "cell_type": "code",
      "source": [
        "import nltk\n",
        "nltk.download('punkt')"
      ],
      "metadata": {
        "colab": {
          "base_uri": "https://localhost:8080/"
        },
        "id": "LAv34jYHSLjx",
        "outputId": "ebee2180-137c-420b-c6fb-3128ad817a7a"
      },
      "execution_count": 5,
      "outputs": [
        {
          "output_type": "stream",
          "name": "stderr",
          "text": [
            "[nltk_data] Downloading package punkt to /root/nltk_data...\n",
            "[nltk_data]   Unzipping tokenizers/punkt.zip.\n"
          ]
        },
        {
          "output_type": "execute_result",
          "data": {
            "text/plain": [
              "True"
            ]
          },
          "metadata": {},
          "execution_count": 5
        }
      ]
    },
    {
      "cell_type": "code",
      "source": [
        "sent_tokenize(example_text)"
      ],
      "metadata": {
        "colab": {
          "base_uri": "https://localhost:8080/"
        },
        "id": "u6LjMmrJSRor",
        "outputId": "e4f4590a-7dde-4689-b48a-0c868bdce854"
      },
      "execution_count": 6,
      "outputs": [
        {
          "output_type": "execute_result",
          "data": {
            "text/plain": [
              "[\"\\nVivo's latest Vivo T2 series will launch in India today, April 11.\",\n",
              " \"The new smartphone will be unveiled during a virtual event at 12 PM and fans can watch the live stream for free on Vivo India's official YouTube channel.\",\n",
              " 'Ahead of the launch, the company has revealed the Vivo T2 series colour and design.',\n",
              " 'The lineup includes the Vivo T2 and a toned-down Vivo T2x.',\n",
              " 'Both smartphones support 5G.',\n",
              " \"The Vivo T2's official Flipkart listing reveals that the phone will come with a Full-HD+ AMOLED display with a 360Hz touch sampling rate \\nand 1300 nits peak brightness.\",\n",
              " \"On the back, there's a 64-megapixel primary camera with OIS and EIS support to offer \\ncrisp and stable videos and photos.\",\n",
              " \"There's also going to be a 2-megapixel bokeh camera, but no ultra-wide camera lens.\"]"
            ]
          },
          "metadata": {},
          "execution_count": 6
        }
      ]
    },
    {
      "cell_type": "code",
      "source": [
        "word_tokenize(example_text)"
      ],
      "metadata": {
        "colab": {
          "base_uri": "https://localhost:8080/"
        },
        "id": "yKKduoauSWjg",
        "outputId": "f44fc09a-6d7c-4741-e180-cc060b73cb53"
      },
      "execution_count": 7,
      "outputs": [
        {
          "output_type": "execute_result",
          "data": {
            "text/plain": [
              "['Vivo',\n",
              " \"'s\",\n",
              " 'latest',\n",
              " 'Vivo',\n",
              " 'T2',\n",
              " 'series',\n",
              " 'will',\n",
              " 'launch',\n",
              " 'in',\n",
              " 'India',\n",
              " 'today',\n",
              " ',',\n",
              " 'April',\n",
              " '11',\n",
              " '.',\n",
              " 'The',\n",
              " 'new',\n",
              " 'smartphone',\n",
              " 'will',\n",
              " 'be',\n",
              " 'unveiled',\n",
              " 'during',\n",
              " 'a',\n",
              " 'virtual',\n",
              " 'event',\n",
              " 'at',\n",
              " '12',\n",
              " 'PM',\n",
              " 'and',\n",
              " 'fans',\n",
              " 'can',\n",
              " 'watch',\n",
              " 'the',\n",
              " 'live',\n",
              " 'stream',\n",
              " 'for',\n",
              " 'free',\n",
              " 'on',\n",
              " 'Vivo',\n",
              " 'India',\n",
              " \"'s\",\n",
              " 'official',\n",
              " 'YouTube',\n",
              " 'channel',\n",
              " '.',\n",
              " 'Ahead',\n",
              " 'of',\n",
              " 'the',\n",
              " 'launch',\n",
              " ',',\n",
              " 'the',\n",
              " 'company',\n",
              " 'has',\n",
              " 'revealed',\n",
              " 'the',\n",
              " 'Vivo',\n",
              " 'T2',\n",
              " 'series',\n",
              " 'colour',\n",
              " 'and',\n",
              " 'design',\n",
              " '.',\n",
              " 'The',\n",
              " 'lineup',\n",
              " 'includes',\n",
              " 'the',\n",
              " 'Vivo',\n",
              " 'T2',\n",
              " 'and',\n",
              " 'a',\n",
              " 'toned-down',\n",
              " 'Vivo',\n",
              " 'T2x',\n",
              " '.',\n",
              " 'Both',\n",
              " 'smartphones',\n",
              " 'support',\n",
              " '5G',\n",
              " '.',\n",
              " 'The',\n",
              " 'Vivo',\n",
              " 'T2',\n",
              " \"'s\",\n",
              " 'official',\n",
              " 'Flipkart',\n",
              " 'listing',\n",
              " 'reveals',\n",
              " 'that',\n",
              " 'the',\n",
              " 'phone',\n",
              " 'will',\n",
              " 'come',\n",
              " 'with',\n",
              " 'a',\n",
              " 'Full-HD+',\n",
              " 'AMOLED',\n",
              " 'display',\n",
              " 'with',\n",
              " 'a',\n",
              " '360Hz',\n",
              " 'touch',\n",
              " 'sampling',\n",
              " 'rate',\n",
              " 'and',\n",
              " '1300',\n",
              " 'nits',\n",
              " 'peak',\n",
              " 'brightness',\n",
              " '.',\n",
              " 'On',\n",
              " 'the',\n",
              " 'back',\n",
              " ',',\n",
              " 'there',\n",
              " \"'s\",\n",
              " 'a',\n",
              " '64-megapixel',\n",
              " 'primary',\n",
              " 'camera',\n",
              " 'with',\n",
              " 'OIS',\n",
              " 'and',\n",
              " 'EIS',\n",
              " 'support',\n",
              " 'to',\n",
              " 'offer',\n",
              " 'crisp',\n",
              " 'and',\n",
              " 'stable',\n",
              " 'videos',\n",
              " 'and',\n",
              " 'photos',\n",
              " '.',\n",
              " 'There',\n",
              " \"'s\",\n",
              " 'also',\n",
              " 'going',\n",
              " 'to',\n",
              " 'be',\n",
              " 'a',\n",
              " '2-megapixel',\n",
              " 'bokeh',\n",
              " 'camera',\n",
              " ',',\n",
              " 'but',\n",
              " 'no',\n",
              " 'ultra-wide',\n",
              " 'camera',\n",
              " 'lens',\n",
              " '.']"
            ]
          },
          "metadata": {},
          "execution_count": 7
        }
      ]
    },
    {
      "cell_type": "markdown",
      "source": [
        "## Stop Words\n",
        "\n",
        "These are those words which don't contribute much meaning for the processing of the actual text data and should be ignored. For example, in, to, from, an etc.\n",
        "\n",
        "## Filtering Stop Words\n",
        "\n",
        "It is the next step in the text preprocessing phase where stop words have to be filtered out from the text.\n",
        "\n",
        "Let's do that in our next cell."
      ],
      "metadata": {
        "id": "o8XgIer2SoTk"
      }
    },
    {
      "cell_type": "code",
      "source": [
        "nltk.download('stopwords')\n",
        "from  nltk.corpus import stopwords"
      ],
      "metadata": {
        "colab": {
          "base_uri": "https://localhost:8080/"
        },
        "id": "5wkybTr-Tqd8",
        "outputId": "22e24527-2d38-4809-9a2c-70bbf2b9bf03"
      },
      "execution_count": 8,
      "outputs": [
        {
          "output_type": "stream",
          "name": "stderr",
          "text": [
            "[nltk_data] Downloading package stopwords to /root/nltk_data...\n",
            "[nltk_data]   Unzipping corpora/stopwords.zip.\n"
          ]
        }
      ]
    },
    {
      "cell_type": "code",
      "source": [
        "# store our word tokens in a variable\n",
        "word_tok = word_tokenize(example_text)\n",
        "set_stopwords = set(stopwords.words('english'))\n",
        "filtered_tok = [tok for tok in word_tok if tok.casefold() not in set_stopwords]\n",
        "print(filtered_tok)"
      ],
      "metadata": {
        "colab": {
          "base_uri": "https://localhost:8080/"
        },
        "id": "Ngekr3s7T0sT",
        "outputId": "0da85f57-cf5e-48dc-afc9-6b2e7b424be9"
      },
      "execution_count": 9,
      "outputs": [
        {
          "output_type": "stream",
          "name": "stdout",
          "text": [
            "['Vivo', \"'s\", 'latest', 'Vivo', 'T2', 'series', 'launch', 'India', 'today', ',', 'April', '11', '.', 'new', 'smartphone', 'unveiled', 'virtual', 'event', '12', 'PM', 'fans', 'watch', 'live', 'stream', 'free', 'Vivo', 'India', \"'s\", 'official', 'YouTube', 'channel', '.', 'Ahead', 'launch', ',', 'company', 'revealed', 'Vivo', 'T2', 'series', 'colour', 'design', '.', 'lineup', 'includes', 'Vivo', 'T2', 'toned-down', 'Vivo', 'T2x', '.', 'smartphones', 'support', '5G', '.', 'Vivo', 'T2', \"'s\", 'official', 'Flipkart', 'listing', 'reveals', 'phone', 'come', 'Full-HD+', 'AMOLED', 'display', '360Hz', 'touch', 'sampling', 'rate', '1300', 'nits', 'peak', 'brightness', '.', 'back', ',', \"'s\", '64-megapixel', 'primary', 'camera', 'OIS', 'EIS', 'support', 'offer', 'crisp', 'stable', 'videos', 'photos', '.', \"'s\", 'also', 'going', '2-megapixel', 'bokeh', 'camera', ',', 'ultra-wide', 'camera', 'lens', '.']\n"
          ]
        }
      ]
    },
    {
      "cell_type": "markdown",
      "source": [
        "## Stemming\n",
        "\n",
        "It refers to the process of reducing words to their roos, i.e. the core part of the words to allow to zero in on the basic meaning of the word rather than using all the details of how they are being used in a text. For example, \"catch\" and \"caught\" share the root \"catch\"   \n"
      ],
      "metadata": {
        "id": "CmgCvEceV_sZ"
      }
    },
    {
      "cell_type": "code",
      "source": [
        "from  nltk.stem import PorterStemmer\n",
        "stemmer_obj = PorterStemmer()\n",
        "to_be_stemmed = \"\"\"\n",
        "On April 12, Prime Minister Narendra Modi will launch the first Vande Bharat Express train in Rajasthan and the first semi-high-speed passenger train in the world on high-rise overhead electric (OHE) land. The first train would run between the railway stations in Jaipur and Delhi Cantt. \n",
        "\"\"\"\n",
        "word_toks = word_tokenize(to_be_stemmed)\n",
        "print([stemmer_obj.stem(tok) for tok in word_toks])"
      ],
      "metadata": {
        "colab": {
          "base_uri": "https://localhost:8080/"
        },
        "id": "7VmoFQcGXlpg",
        "outputId": "1af18113-c70d-499c-dd98-ad591fa048eb"
      },
      "execution_count": 13,
      "outputs": [
        {
          "output_type": "stream",
          "name": "stdout",
          "text": [
            "['on', 'april', '12', ',', 'prime', 'minist', 'narendra', 'modi', 'will', 'launch', 'the', 'first', 'vand', 'bharat', 'express', 'train', 'in', 'rajasthan', 'and', 'the', 'first', 'semi-high-spe', 'passeng', 'train', 'in', 'the', 'world', 'on', 'high-ris', 'overhead', 'electr', '(', 'ohe', ')', 'land', '.', 'the', 'first', 'train', 'would', 'run', 'between', 'the', 'railway', 'station', 'in', 'jaipur', 'and', 'delhi', 'cantt', '.']\n"
          ]
        }
      ]
    }
  ]
}